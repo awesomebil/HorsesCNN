{
  "cells": [
    {
      "cell_type": "markdown",
      "metadata": {
        "id": "GD2qeSjXusT6",
        "outputId": "e4775498-d38a-4071-b5bb-f23a8e3f2ef4"
      },
      "source": [
        "Name: Bilal Suleman"
      ]
    },
    {
      "cell_type": "code",
      "execution_count": 1,
      "metadata": {
        "id": "lCWOiVlevMg1"
      },
      "outputs": [],
      "source": [
        "%matplotlib inline\n",
        "import cv2\n",
        "import numpy as np\n",
        "import matplotlib.pyplot as plt\n",
        "from matplotlib import style\n",
        "style.use('ggplot')\n",
        "from IPython import display\n",
        "import pandas as pd\n",
        "import tensorflow as tf"
      ]
    },
    {
      "cell_type": "code",
      "execution_count": null,
      "metadata": {
        "colab": {
          "base_uri": "https://localhost:8080/"
        },
        "id": "abFDE4DZ0KRm",
        "outputId": "2ebd7019-d84e-4d1f-a11c-c4a8d6e61127"
      },
      "outputs": [],
      "source": [
        "from google.colab import drive\n",
        "drive.mount('/content/drive')"
      ]
    },
    {
      "cell_type": "code",
      "execution_count": 6,
      "metadata": {
        "colab": {
          "base_uri": "https://localhost:8080/"
        },
        "id": "nu1_A-pzby-f",
        "outputId": "8545fb43-58b7-4d6d-9f0d-84b805986645"
      },
      "outputs": [
        {
          "name": "stdout",
          "output_type": "stream",
          "text": [
            "\u001b[34mimages\u001b[m\u001b[m \u001b[34mmasks\u001b[m\u001b[m\n"
          ]
        }
      ],
      "source": [
        "!ls horses"
      ]
    },
    {
      "cell_type": "code",
      "execution_count": 5,
      "metadata": {
        "id": "QgPkJt9Bux-J"
      },
      "outputs": [],
      "source": [
        "\n",
        "## helper funciton for loading the horses data\n",
        "#make sure the horses data is in the same directory as the notebook\n",
        "#do not change this function\n",
        "def load_horses_orig(path, image_size):\n",
        "    mask_path = path + 'masks/'\n",
        "    image_path = path + 'images/'\n",
        "    images = []\n",
        "    masks = []\n",
        "    test_images= []\n",
        "    test_masks =[]\n",
        "    for i in range(328):\n",
        "\n",
        "        orig_im = cv2.imread(image_path + 'image-{}.png'.format(i))\n",
        "        orig_im= cv2.cvtColor(orig_im, cv2.COLOR_RGB2BGR)\n",
        "\n",
        "        low_im = cv2.resize(orig_im, dsize=(image_size, image_size))\n",
        "\n",
        "        orig_mask = cv2.imread(mask_path + 'mask-{}.png'.format(i))\n",
        "        low_mask = cv2.resize(orig_mask, dsize=(image_size, image_size))\n",
        "        low_mask = cv2.cvtColor(low_mask, cv2.COLOR_RGB2GRAY)\n",
        "        bin_mask = (low_mask > 0) + 0\n",
        "\n",
        "\n",
        "        images.append(low_im)\n",
        "        masks.append(bin_mask)\n",
        "\n",
        "\n",
        "    xtest = np.reshape(np.array(images[250:]), (-1,image_size*image_size*3))\n",
        "    ytest = np.reshape(np.array(masks[250:]), (-1, image_size * image_size))\n",
        "    xdata = np.reshape(np.array(images[:200]), (-1,image_size*image_size*3))\n",
        "    ydata = np.reshape(np.array(masks[:200]), (-1, image_size * image_size))\n",
        "    yval =  np.reshape(np.array(masks[200:250]), (-1, image_size * image_size))\n",
        "    xval = np.reshape(np.array(images[200:250]), (-1,image_size*image_size*3))\n",
        "\n",
        "\n",
        "    return xdata, xval, xtest, ydata, yval, ytest\n"
      ]
    },
    {
      "cell_type": "code",
      "execution_count": 7,
      "metadata": {
        "id": "ziLhzr0SvHS2"
      },
      "outputs": [],
      "source": [
        "#change the path address if put the data somewhere else\n",
        "path = 'horses/'\n",
        "image_size = 32;\n",
        "xdata, xval, xtest, ydata, yval, ytest = load_horses_orig(path, image_size)"
      ]
    },
    {
      "cell_type": "code",
      "execution_count": 8,
      "metadata": {
        "id": "fYU3V-_O7TZV"
      },
      "outputs": [],
      "source": [
        "#helper function to drawing horse and its mask\n",
        "def draw(image, mask):\n",
        "    fig, (ax1,ax2) = plt.subplots(1,2)\n",
        "    ax1.axis('off')\n",
        "    ax2.axis('off')\n",
        "    ax1.imshow(np.reshape(image, (image_size,image_size,3)))\n",
        "    ax2.imshow(np.reshape(mask, (image_size,image_size)), cmap=plt.cm.gray)\n",
        "    plt.show()"
      ]
    },
    {
      "cell_type": "markdown",
      "metadata": {
        "id": "Ip4D5RvarSML"
      },
      "source": [
        "The task is to predict the mask for the horse given the image\n",
        "Mask is binary image shows the presence of the horse."
      ]
    },
    {
      "cell_type": "code",
      "execution_count": 9,
      "metadata": {
        "colab": {
          "base_uri": "https://localhost:8080/",
          "height": 262
        },
        "id": "lzdIqN66Xt7s",
        "outputId": "ededef96-426c-4ab6-f48f-7aa3207e42df"
      },
      "outputs": [
        {
          "data": {
            "image/png": "[encoded data removed]",
            "text/plain": [
              "<Figure size 640x480 with 2 Axes>"
            ]
          },
          "metadata": {},
          "output_type": "display_data"
        }
      ],
      "source": [
        " draw(xdata[0], ydata[0])"
      ]
    },
    {
      "cell_type": "code",
      "execution_count": 12,
      "metadata": {
        "id": "Pvsy2ImHu1Id"
      },
      "outputs": [],
      "source": [
        "train_size = xdata.shape[0]\n",
        "batch_size = 10\n",
        "train_dataset = (tf.data.Dataset.from_tensor_slices(np.hstack((xdata, ydata)))\n",
        "                 .shuffle(train_size).batch(batch_size))"
      ]
    },
    {
      "cell_type": "markdown",
      "metadata": {
        "id": "HaqQBZhtYEtn"
      },
      "source": [
        "The intersection over union (IOU) is a metric for measuring the performance of image segmentation. The perfect segmentation receives IOU of one."
      ]
    },
    {
      "cell_type": "code",
      "execution_count": 13,
      "metadata": {
        "id": "qYv6okdsy0Th"
      },
      "outputs": [],
      "source": [
        "# Do not change this cell\n",
        "def iou(ytrue, yprediction):\n",
        "    yp = yprediction\n",
        "    yt = ytrue\n",
        "    yp = yp > 0.5 + 0\n",
        "    intersect = np.sum(np.minimum(yp, yt),1)\n",
        "    union = np.sum(np.maximum(yp, yt),1)\n",
        "    return np.average(intersect / (union+0.0))\n"
      ]
    },
    {
      "cell_type": "code",
      "execution_count": 14,
      "metadata": {
        "id": "xg72JBIOzG4B"
      },
      "outputs": [],
      "source": [
        "assert iou(ydata, ydata) == 1.0"
      ]
    },
    {
      "cell_type": "markdown",
      "metadata": {
        "id": "GupMJR57YnWt"
      },
      "source": [
        "We can use feedforwad MLP or CNN  model for image segmentation. Here the input is the image and the output is the segmentation mask."
      ]
    },
    {
      "cell_type": "code",
      "execution_count": 55,
      "metadata": {
        "id": "3J_2HkPszjcr"
      },
      "outputs": [],
      "source": [
        "class NeuralNet(tf.keras.Model):\n",
        "\n",
        "    def construct_CNN(self):\n",
        "        # COMPLETE ME\n",
        "        # The following code is a function to construct the CNN model.\n",
        "        # This is accomplished by passing the data through convolution layers with the first layer having 32 filters and the next having 64.\n",
        "        # Dropouts and BatchNormalization are also used to curb overfitting and finally the model is flattened and adjusted with Dense layers.\n",
        "        \n",
        "        self.model = tf.keras.Sequential(\n",
        "            [\n",
        "                tf.keras.layers.Conv2D(image_size, (3, 3), activation='relu', input_shape=(image_size, image_size, 3)),\n",
        "                tf.keras.layers.BatchNormalization(),\n",
        "                tf.keras.layers.MaxPooling2D((2, 2)),\n",
        "                tf.keras.layers.Dropout(0.5),\n",
        "\n",
        "                tf.keras.layers.Conv2D(128, (3, 3), activation='relu'),\n",
        "                tf.keras.layers.BatchNormalization(),\n",
        "                tf.keras.layers.MaxPooling2D((2, 2)),\n",
        "                tf.keras.layers.Dropout(0.5),\n",
        "\n",
        "                # tf.keras.layers.Conv2D(128, (3, 3), activation='relu'),\n",
        "                # # tf.keras.layers.BatchNormalization(),\n",
        "                # tf.keras.layers.MaxPooling2D((2, 2)),\n",
        "                # tf.keras.layers.Dropout(0.4),\n",
        "\n",
        "                # tf.keras.layers.Conv2D(256, (3, 3), activation='relu'),\n",
        "                # tf.keras.layers.MaxPooling2D((2, 2)),\n",
        "                # tf.keras.layers.Dropout(0.4),\n",
        "\n",
        "                tf.keras.layers.Flatten(),\n",
        "                tf.keras.layers.Dense(512, activation='relu'),\n",
        "                tf.keras.layers.Dense(image_size*image_size)\n",
        "            ]\n",
        "        )\n",
        "        pass\n",
        "\n",
        "\n",
        "    def construct_MLP(self):\n",
        "         self.model = tf.keras.Sequential(\n",
        "            [\n",
        "                tf.keras.layers.InputLayer(input_shape=(image_size, image_size, 3), dtype='float32'),\n",
        "                tf.keras.layers.Flatten(),\n",
        "                tf.keras.layers.Dense(500, activation='relu'),\n",
        "                tf.keras.layers.Dropout(.2, input_shape=(500,)),\n",
        "                tf.keras.layers.Dense(20, activation='relu'),\n",
        "                tf.keras.layers.Dense(image_size*image_size)\n",
        "            ]\n",
        "        )\n",
        "\n",
        "\n",
        "    def __init__(self, network_type = 'MLP'):\n",
        "        super(NeuralNet, self).__init__()\n",
        "        #DOCUMENT ME\n",
        "        # SGD is the simplest optimizer that updates the weights in the direction opposite to the gradient of the loss function with \n",
        "        # respect to the weights. It uses a constant learning rate.\n",
        "        # self.optimizer = tf.keras.optimizers.SGD(0.1)\n",
        "        # Adam (Adaptive Moment Estimation) combines ideas from RMSprop and Momentum. \n",
        "        # It adapts the learning rates of each parameter individually, allowing for faster convergence and better \n",
        "        # handling of sparse gradients.\n",
        "        # self.optimizer = tf.keras.optimizers.legacy.Adam(0.0001)\n",
        "        #What are the other available optimizers\n",
        "        #Test your code with different optimizers\n",
        "        \n",
        "        # RMSprop (Root Mean Squared Propagation) is an adaptive learning rate method that divides the learning rate by the \n",
        "        # moving average of the squared gradients. It helps in adapting to the geometry of the loss surface.\n",
        "        \n",
        "        self.optimizer = tf.keras.optimizers.legacy.RMSprop(0.0001)\n",
        "\n",
        "\n",
        "        if network_type == 'MLP':\n",
        "            self.construct_MLP();\n",
        "        else:\n",
        "            self.construct_CNN();\n",
        "\n",
        "\n",
        "    #DOCUMENT ME\n",
        "    # The following function is the forward step of the neural network.\n",
        "    # This step feeds the data from the neurons through the next layer.\n",
        "    # The weights and biases will be applied to the data and fed through the neural net so the neurons can produce an output.\n",
        "    # In our partcular case if the predict flag is true then we apply the sigmoid function to the model and then return it.\n",
        "    def forward(self, x, predict=True):\n",
        "        if predict:\n",
        "            return tf.nn.sigmoid(self.model(x))\n",
        "        return self.model(x)\n",
        "\n",
        "    def get_loss(self, x, yt):\n",
        "        x = tf.reshape(x, (-1, image_size, image_size, 3))\n",
        "        yt = tf.reshape(yt, (-1, image_size * image_size))\n",
        "        ylogits = self.forward(x, predict=False);\n",
        "\n",
        "        #DOCUMENT ME\n",
        "        # Here in the get_loss function we apply the sigmoid cross entropy loss which calculates just that for our model\n",
        "        # This is calculated in the function using the given logits and then applied in the sigmoid cross entropy loss formula.\n",
        "        # That cross entropy loss is then applied to the model using the reduce_sum function which computes the sum of the elements\n",
        "        # across a tensor.\n",
        "        cross_ent = tf.nn.sigmoid_cross_entropy_with_logits(logits=ylogits, labels=yt);\n",
        "\n",
        "\n",
        "        return tf.reduce_sum(cross_ent)\n",
        "\n",
        "\n",
        "    def train_step(self, xbatch,ybatch):\n",
        "\n",
        "        #DOCUMENT ME\n",
        "        # The gradient tape function computes the derivative of the loss that we calculate with the get_loss function.\n",
        "        # We could also stack gradient tapes should we need to calculate higher dimension derivatives however that is not needed\n",
        "        # in our example.\n",
        "        with tf.GradientTape() as tape:\n",
        "            loss = self.get_loss(xbatch, ybatch)\n",
        "\n",
        "        #DOCUMENT ME\n",
        "        # Here the gradient from the gradient tape is actually calculated with the loss as the x variable and all the trainable variables\n",
        "        # from our model as the y values.\n",
        "        gradients = tape.gradient(loss, model.trainable_variables)\n",
        "\n",
        "        #DOCUMENT ME\n",
        "        # The gradients are then applied here which is essentially calculating and applying those weights and biases\n",
        "        # and the model is adjusted accourdingly by adding those adjustments in the reduce_sum function.\n",
        "        self.optimizer.apply_gradients(zip(gradients, model.trainable_variables))\n",
        "        return tf.reduce_sum(loss)\n",
        "\n",
        "    def predict(self, x):\n",
        "        y = self.forward(x, predict=True)\n",
        "        return y.numpy() #tf.reshape(y, (-1, image_size, image_size)).numpy()\n"
      ]
    },
    {
      "cell_type": "code",
      "execution_count": 56,
      "metadata": {
        "id": "SRclkbJiw42K"
      },
      "outputs": [],
      "source": [
        "model = NeuralNet('CNN')\n",
        "# model = NeuralNet('MLP')\n",
        "train_iou = []\n",
        "val_iou = []\n",
        "test_iou = []\n",
        "epoch = 1;\n",
        "best_val_iou = -1;\n",
        "best_test_iou = -1"
      ]
    },
    {
      "cell_type": "code",
      "execution_count": 58,
      "metadata": {
        "colab": {
          "base_uri": "https://localhost:8080/"
        },
        "id": "YMLAf_wB1s2s",
        "outputId": "6e01e6af-0337-424a-88e5-f30eef6007d9"
      },
      "outputs": [
        {
          "name": "stdout",
          "output_type": "stream",
          "text": [
            "Epoch 87, Loss: 9.2e+02, IOU - Train: 0.999 Valid: 0.578 Test: 0.603\n",
            "Epoch 88, Loss: 4.93e+02, IOU - Train: 0.998 Valid: 0.57 Test: 0.603\n",
            "Epoch 89, Loss: 7.83e+02, IOU - Train: 0.999 Valid: 0.576 Test: 0.603\n",
            "Epoch 90, Loss: 4.19e+02, IOU - Train: 0.998 Valid: 0.575 Test: 0.603\n",
            "Epoch 91, Loss: 8.03e+02, IOU - Train: 0.999 Valid: 0.576 Test: 0.603\n",
            "Epoch 92, Loss: 3.71e+02, IOU - Train: 0.999 Valid: 0.573 Test: 0.603\n",
            "Epoch 93, Loss: 5.39e+02, IOU - Train: 0.999 Valid: 0.579 Test: 0.603\n",
            "Epoch 94, Loss: 4.88e+02, IOU - Train: 0.999 Valid: 0.578 Test: 0.603\n",
            "Epoch 95, Loss: 3.67e+02, IOU - Train: 0.996 Valid: 0.567 Test: 0.603\n",
            "Epoch 96, Loss: 4.77e+02, IOU - Train: 0.997 Valid: 0.569 Test: 0.603\n",
            "Epoch 97, Loss: 4.94e+02, IOU - Train: 0.996 Valid: 0.585 Test: 0.604\n",
            "Epoch 98, Loss: 3.49e+02, IOU - Train: 0.999 Valid: 0.578 Test: 0.604\n",
            "Epoch 99, Loss: 3.29e+02, IOU - Train: 0.999 Valid: 0.576 Test: 0.604\n",
            "Epoch 100, Loss: 4.52e+02, IOU - Train: 0.999 Valid: 0.573 Test: 0.604\n",
            "Epoch 101, Loss: 3.57e+02, IOU - Train: 0.999 Valid: 0.577 Test: 0.604\n",
            "Epoch 102, Loss: 3.45e+02, IOU - Train: 0.999 Valid: 0.583 Test: 0.604\n",
            "Epoch 103, Loss: 2.81e+02, IOU - Train: 0.998 Valid: 0.576 Test: 0.604\n",
            "Epoch 104, Loss: 3.91e+02, IOU - Train: 0.999 Valid: 0.577 Test: 0.604\n",
            "Epoch 105, Loss: 3.04e+02, IOU - Train: 0.999 Valid: 0.578 Test: 0.604\n",
            "Epoch 106, Loss: 3.91e+02, IOU - Train: 0.999 Valid: 0.578 Test: 0.604\n",
            "Epoch 107, Loss: 3.79e+02, IOU - Train: 0.999 Valid: 0.579 Test: 0.604\n",
            "Epoch 108, Loss: 2.34e+02, IOU - Train: 0.998 Valid: 0.576 Test: 0.604\n",
            "Epoch 109, Loss: 3.37e+02, IOU - Train: 0.999 Valid: 0.58 Test: 0.604\n",
            "Epoch 110, Loss: 2.55e+02, IOU - Train: 0.999 Valid: 0.579 Test: 0.604\n",
            "Epoch 111, Loss: 3.04e+02, IOU - Train: 0.999 Valid: 0.578 Test: 0.604\n",
            "Epoch 112, Loss: 2.85e+02, IOU - Train: 0.999 Valid: 0.578 Test: 0.604\n",
            "Epoch 113, Loss: 2.44e+02, IOU - Train: 0.998 Valid: 0.583 Test: 0.604\n",
            "Epoch 114, Loss: 2.82e+02, IOU - Train: 0.999 Valid: 0.586 Test: 0.605\n",
            "Epoch 115, Loss: 2.51e+02, IOU - Train: 0.999 Valid: 0.576 Test: 0.605\n",
            "Epoch 116, Loss: 2.92e+02, IOU - Train: 0.999 Valid: 0.579 Test: 0.605\n",
            "Epoch 117, Loss: 2.31e+02, IOU - Train: 0.999 Valid: 0.579 Test: 0.605\n",
            "Epoch 118, Loss: 2.8e+02, IOU - Train: 0.999 Valid: 0.577 Test: 0.605\n",
            "Epoch 119, Loss: 3.27e+02, IOU - Train: 0.999 Valid: 0.583 Test: 0.605\n",
            "Epoch 120, Loss: 2.77e+02, IOU - Train: 0.999 Valid: 0.582 Test: 0.605\n",
            "Epoch 121, Loss: 2.1e+02, IOU - Train: 0.999 Valid: 0.581 Test: 0.605\n",
            "Epoch 122, Loss: 1.78e+02, IOU - Train: 0.999 Valid: 0.581 Test: 0.605\n",
            "Epoch 123, Loss: 3.05e+02, IOU - Train: 0.999 Valid: 0.573 Test: 0.605\n",
            "Epoch 124, Loss: 1.84e+02, IOU - Train: 0.999 Valid: 0.582 Test: 0.605\n",
            "Epoch 125, Loss: 2.1e+02, IOU - Train: 0.999 Valid: 0.581 Test: 0.605\n",
            "Epoch 126, Loss: 1.91e+02, IOU - Train: 0.999 Valid: 0.585 Test: 0.605\n",
            "Epoch 127, Loss: 1.91e+02, IOU - Train: 0.999 Valid: 0.582 Test: 0.605\n",
            "Epoch 128, Loss: 2.63e+02, IOU - Train: 0.999 Valid: 0.576 Test: 0.605\n",
            "Epoch 129, Loss: 2.27e+02, IOU - Train: 0.999 Valid: 0.582 Test: 0.605\n",
            "Epoch 130, Loss: 2.55e+02, IOU - Train: 0.999 Valid: 0.581 Test: 0.605\n",
            "Epoch 131, Loss: 1.99e+02, IOU - Train: 0.999 Valid: 0.582 Test: 0.605\n",
            "Epoch 132, Loss: 2.52e+02, IOU - Train: 0.999 Valid: 0.587 Test: 0.605\n",
            "Epoch 133, Loss: 1.83e+02, IOU - Train: 0.999 Valid: 0.58 Test: 0.605\n",
            "Epoch 134, Loss: 2.36e+02, IOU - Train: 0.999 Valid: 0.583 Test: 0.605\n",
            "Epoch 135, Loss: 2e+02, IOU - Train: 0.999 Valid: 0.577 Test: 0.605\n",
            "Epoch 136, Loss: 2e+02, IOU - Train: 0.999 Valid: 0.581 Test: 0.605\n",
            "Epoch 137, Loss: 1.95e+02, IOU - Train: 0.999 Valid: 0.578 Test: 0.605\n",
            "Epoch 138, Loss: 2.18e+02, IOU - Train: 0.999 Valid: 0.576 Test: 0.605\n",
            "Epoch 139, Loss: 2.01e+02, IOU - Train: 0.999 Valid: 0.584 Test: 0.605\n",
            "Epoch 140, Loss: 2.64e+02, IOU - Train: 0.999 Valid: 0.583 Test: 0.605\n",
            "Epoch 141, Loss: 2.01e+02, IOU - Train: 0.999 Valid: 0.584 Test: 0.605\n",
            "Epoch 142, Loss: 1.76e+02, IOU - Train: 0.999 Valid: 0.585 Test: 0.605\n",
            "Epoch 143, Loss: 2.32e+02, IOU - Train: 0.999 Valid: 0.582 Test: 0.605\n",
            "Epoch 144, Loss: 1.86e+02, IOU - Train: 0.999 Valid: 0.584 Test: 0.605\n",
            "Epoch 145, Loss: 1.6e+02, IOU - Train: 0.999 Valid: 0.58 Test: 0.605\n",
            "Epoch 146, Loss: 1.82e+02, IOU - Train: 0.999 Valid: 0.586 Test: 0.605\n",
            "Epoch 147, Loss: 1.82e+02, IOU - Train: 0.999 Valid: 0.583 Test: 0.605\n",
            "Epoch 148, Loss: 1.99e+02, IOU - Train: 0.999 Valid: 0.583 Test: 0.605\n",
            "Epoch 149, Loss: 99.0, IOU - Train: 0.999 Valid: 0.582 Test: 0.605\n",
            "Epoch 150, Loss: 1.3e+02, IOU - Train: 0.999 Valid: 0.584 Test: 0.605\n",
            "Epoch 151, Loss: 1.99e+02, IOU - Train: 0.999 Valid: 0.587 Test: 0.605\n",
            "Epoch 152, Loss: 1.39e+02, IOU - Train: 0.999 Valid: 0.582 Test: 0.605\n",
            "Epoch 153, Loss: 1.89e+02, IOU - Train: 0.999 Valid: 0.586 Test: 0.605\n",
            "Epoch 154, Loss: 1.63e+02, IOU - Train: 0.999 Valid: 0.584 Test: 0.605\n",
            "Epoch 155, Loss: 1.48e+02, IOU - Train: 0.999 Valid: 0.585 Test: 0.605\n",
            "Epoch 156, Loss: 1.39e+02, IOU - Train: 0.999 Valid: 0.581 Test: 0.605\n",
            "Epoch 157, Loss: 1.82e+02, IOU - Train: 0.999 Valid: 0.585 Test: 0.605\n",
            "Epoch 158, Loss: 1.6e+02, IOU - Train: 0.999 Valid: 0.585 Test: 0.605\n",
            "Epoch 159, Loss: 97.3, IOU - Train: 0.999 Valid: 0.586 Test: 0.605\n",
            "Epoch 160, Loss: 1.77e+02, IOU - Train: 0.999 Valid: 0.585 Test: 0.605\n",
            "Epoch 161, Loss: 1.37e+02, IOU - Train: 0.999 Valid: 0.584 Test: 0.605\n",
            "Epoch 162, Loss: 1.8e+02, IOU - Train: 0.999 Valid: 0.585 Test: 0.605\n",
            "Epoch 163, Loss: 1.02e+02, IOU - Train: 1.0 Valid: 0.585 Test: 0.605\n",
            "Epoch 164, Loss: 1.26e+02, IOU - Train: 1.0 Valid: 0.587 Test: 0.605\n",
            "Epoch 165, Loss: 1.46e+02, IOU - Train: 0.999 Valid: 0.585 Test: 0.605\n",
            "Epoch 166, Loss: 89.9, IOU - Train: 0.999 Valid: 0.587 Test: 0.605\n",
            "Epoch 167, Loss: 1.68e+02, IOU - Train: 1.0 Valid: 0.586 Test: 0.605\n",
            "Epoch 168, Loss: 1.02e+02, IOU - Train: 1.0 Valid: 0.586 Test: 0.605\n",
            "Epoch 169, Loss: 94.4, IOU - Train: 1.0 Valid: 0.584 Test: 0.605\n",
            "Epoch 170, Loss: 1.15e+02, IOU - Train: 0.999 Valid: 0.584 Test: 0.605\n",
            "Epoch 171, Loss: 1.54e+02, IOU - Train: 1.0 Valid: 0.585 Test: 0.605\n",
            "Epoch 172, Loss: 84.0, IOU - Train: 1.0 Valid: 0.585 Test: 0.605\n",
            "Epoch 173, Loss: 87.2, IOU - Train: 0.999 Valid: 0.582 Test: 0.605\n",
            "Epoch 174, Loss: 1.07e+02, IOU - Train: 0.999 Valid: 0.583 Test: 0.605\n",
            "Epoch 175, Loss: 1.06e+02, IOU - Train: 1.0 Valid: 0.586 Test: 0.605\n",
            "Epoch 176, Loss: 1.15e+02, IOU - Train: 1.0 Valid: 0.587 Test: 0.605\n",
            "Epoch 177, Loss: 99.8, IOU - Train: 1.0 Valid: 0.588 Test: 0.605\n",
            "Epoch 178, Loss: 1.16e+02, IOU - Train: 0.999 Valid: 0.584 Test: 0.605\n",
            "Epoch 179, Loss: 1.01e+02, IOU - Train: 1.0 Valid: 0.588 Test: 0.605\n",
            "Epoch 180, Loss: 98.2, IOU - Train: 1.0 Valid: 0.583 Test: 0.605\n",
            "Epoch 181, Loss: 1.09e+02, IOU - Train: 1.0 Valid: 0.588 Test: 0.605\n",
            "Epoch 182, Loss: 53.4, IOU - Train: 1.0 Valid: 0.584 Test: 0.605\n",
            "Epoch 183, Loss: 81.5, IOU - Train: 1.0 Valid: 0.586 Test: 0.605\n",
            "Epoch 184, Loss: 66.5, IOU - Train: 1.0 Valid: 0.586 Test: 0.605\n",
            "Epoch 185, Loss: 1.19e+02, IOU - Train: 1.0 Valid: 0.59 Test: 0.608\n",
            "Epoch 186, Loss: 38.1, IOU - Train: 1.0 Valid: 0.591 Test: 0.608\n",
            "Epoch 187, Loss: 67.7, IOU - Train: 0.999 Valid: 0.586 Test: 0.608\n",
            "Epoch 188, Loss: 1.11e+02, IOU - Train: 1.0 Valid: 0.585 Test: 0.608\n",
            "Epoch 189, Loss: 34.2, IOU - Train: 1.0 Valid: 0.584 Test: 0.608\n",
            "Epoch 190, Loss: 83.4, IOU - Train: 1.0 Valid: 0.586 Test: 0.608\n",
            "Epoch 191, Loss: 66.4, IOU - Train: 1.0 Valid: 0.587 Test: 0.608\n",
            "Epoch 192, Loss: 74.9, IOU - Train: 1.0 Valid: 0.583 Test: 0.608\n",
            "Epoch 193, Loss: 39.4, IOU - Train: 1.0 Valid: 0.589 Test: 0.608\n",
            "Epoch 194, Loss: 85.1, IOU - Train: 1.0 Valid: 0.585 Test: 0.608\n",
            "Epoch 195, Loss: 50.9, IOU - Train: 1.0 Valid: 0.585 Test: 0.608\n",
            "Epoch 196, Loss: 74.4, IOU - Train: 1.0 Valid: 0.587 Test: 0.608\n",
            "Epoch 197, Loss: 39.8, IOU - Train: 1.0 Valid: 0.586 Test: 0.608\n",
            "Epoch 198, Loss: 48.4, IOU - Train: 1.0 Valid: 0.589 Test: 0.608\n",
            "Epoch 199, Loss: 52.0, IOU - Train: 1.0 Valid: 0.589 Test: 0.608\n",
            "Epoch 200, Loss: 68.1, IOU - Train: 1.0 Valid: 0.586 Test: 0.608\n",
            "Epoch 201, Loss: 50.0, IOU - Train: 1.0 Valid: 0.586 Test: 0.608\n",
            "Epoch 202, Loss: 66.9, IOU - Train: 1.0 Valid: 0.587 Test: 0.608\n",
            "Epoch 203, Loss: 49.0, IOU - Train: 1.0 Valid: 0.59 Test: 0.608\n",
            "Epoch 204, Loss: 52.7, IOU - Train: 1.0 Valid: 0.588 Test: 0.608\n",
            "Epoch 205, Loss: 53.7, IOU - Train: 1.0 Valid: 0.585 Test: 0.608\n",
            "Epoch 206, Loss: 35.8, IOU - Train: 1.0 Valid: 0.589 Test: 0.608\n",
            "Epoch 207, Loss: 65.3, IOU - Train: 1.0 Valid: 0.585 Test: 0.608\n",
            "Epoch 208, Loss: 30.6, IOU - Train: 1.0 Valid: 0.588 Test: 0.608\n",
            "Epoch 209, Loss: 51.4, IOU - Train: 1.0 Valid: 0.585 Test: 0.608\n",
            "Epoch 210, Loss: 61.1, IOU - Train: 1.0 Valid: 0.586 Test: 0.608\n",
            "Epoch 211, Loss: 28.0, IOU - Train: 1.0 Valid: 0.588 Test: 0.608\n",
            "Epoch 212, Loss: 34.3, IOU - Train: 1.0 Valid: 0.585 Test: 0.608\n",
            "Epoch 213, Loss: 31.1, IOU - Train: 1.0 Valid: 0.59 Test: 0.608\n",
            "Epoch 214, Loss: 66.8, IOU - Train: 1.0 Valid: 0.586 Test: 0.608\n",
            "Epoch 215, Loss: 22.9, IOU - Train: 1.0 Valid: 0.588 Test: 0.608\n",
            "Epoch 216, Loss: 30.2, IOU - Train: 1.0 Valid: 0.582 Test: 0.608\n",
            "Epoch 217, Loss: 36.6, IOU - Train: 1.0 Valid: 0.584 Test: 0.608\n",
            "Epoch 218, Loss: 45.3, IOU - Train: 1.0 Valid: 0.584 Test: 0.608\n",
            "Epoch 219, Loss: 41.0, IOU - Train: 1.0 Valid: 0.583 Test: 0.608\n",
            "Epoch 220, Loss: 18.5, IOU - Train: 1.0 Valid: 0.585 Test: 0.608\n",
            "Epoch 221, Loss: 56.1, IOU - Train: 1.0 Valid: 0.585 Test: 0.608\n",
            "Epoch 222, Loss: 43.3, IOU - Train: 1.0 Valid: 0.585 Test: 0.608\n",
            "Epoch 223, Loss: 40.2, IOU - Train: 1.0 Valid: 0.586 Test: 0.608\n",
            "Epoch 224, Loss: 33.1, IOU - Train: 1.0 Valid: 0.588 Test: 0.608\n",
            "Epoch 225, Loss: 17.9, IOU - Train: 1.0 Valid: 0.586 Test: 0.608\n",
            "Epoch 226, Loss: 38.8, IOU - Train: 1.0 Valid: 0.588 Test: 0.608\n",
            "Epoch 227, Loss: 26.2, IOU - Train: 1.0 Valid: 0.585 Test: 0.608\n",
            "Epoch 228, Loss: 29.4, IOU - Train: 1.0 Valid: 0.587 Test: 0.608\n",
            "Epoch 229, Loss: 17.7, IOU - Train: 1.0 Valid: 0.586 Test: 0.608\n",
            "Epoch 230, Loss: 13.7, IOU - Train: 1.0 Valid: 0.587 Test: 0.608\n",
            "Epoch 231, Loss: 49.7, IOU - Train: 1.0 Valid: 0.584 Test: 0.608\n",
            "Epoch 232, Loss: 11.3, IOU - Train: 1.0 Valid: 0.587 Test: 0.608\n",
            "Epoch 233, Loss: 33.3, IOU - Train: 1.0 Valid: 0.585 Test: 0.608\n",
            "Epoch 234, Loss: 30.9, IOU - Train: 1.0 Valid: 0.586 Test: 0.608\n",
            "Epoch 235, Loss: 8.99, IOU - Train: 1.0 Valid: 0.587 Test: 0.608\n",
            "Epoch 236, Loss: 19.1, IOU - Train: 1.0 Valid: 0.584 Test: 0.608\n",
            "Epoch 237, Loss: 30.3, IOU - Train: 1.0 Valid: 0.588 Test: 0.608\n",
            "Epoch 238, Loss: 20.2, IOU - Train: 1.0 Valid: 0.588 Test: 0.608\n",
            "Epoch 239, Loss: 11.4, IOU - Train: 1.0 Valid: 0.587 Test: 0.608\n",
            "Epoch 240, Loss: 19.3, IOU - Train: 1.0 Valid: 0.588 Test: 0.608\n",
            "Epoch 241, Loss: 8.21, IOU - Train: 1.0 Valid: 0.587 Test: 0.608\n",
            "Epoch 242, Loss: 25.4, IOU - Train: 1.0 Valid: 0.587 Test: 0.608\n",
            "Epoch 243, Loss: 32.7, IOU - Train: 1.0 Valid: 0.586 Test: 0.608\n",
            "Epoch 244, Loss: 3.0, IOU - Train: 1.0 Valid: 0.588 Test: 0.608\n",
            "Epoch 245, Loss: 21.8, IOU - Train: 1.0 Valid: 0.587 Test: 0.608\n",
            "Epoch 246, Loss: 10.7, IOU - Train: 1.0 Valid: 0.586 Test: 0.608\n",
            "Epoch 247, Loss: 27.1, IOU - Train: 1.0 Valid: 0.588 Test: 0.608\n",
            "Epoch 248, Loss: 11.9, IOU - Train: 1.0 Valid: 0.586 Test: 0.608\n",
            "Epoch 249, Loss: 26.2, IOU - Train: 1.0 Valid: 0.586 Test: 0.608\n",
            "Epoch 250, Loss: 12.8, IOU - Train: 1.0 Valid: 0.587 Test: 0.608\n",
            "Epoch 251, Loss: 20.7, IOU - Train: 1.0 Valid: 0.585 Test: 0.608\n",
            "Epoch 252, Loss: 5.04, IOU - Train: 1.0 Valid: 0.589 Test: 0.608\n",
            "Epoch 253, Loss: 15.3, IOU - Train: 1.0 Valid: 0.588 Test: 0.608\n",
            "Epoch 254, Loss: 12.1, IOU - Train: 1.0 Valid: 0.584 Test: 0.608\n",
            "Epoch 255, Loss: 11.3, IOU - Train: 1.0 Valid: 0.587 Test: 0.608\n",
            "Epoch 256, Loss: 11.3, IOU - Train: 1.0 Valid: 0.589 Test: 0.608\n",
            "Epoch 257, Loss: 23.7, IOU - Train: 1.0 Valid: 0.586 Test: 0.608\n",
            "Epoch 258, Loss: 13.4, IOU - Train: 1.0 Valid: 0.585 Test: 0.608\n",
            "Epoch 259, Loss: 5.48, IOU - Train: 1.0 Valid: 0.59 Test: 0.608\n",
            "Epoch 260, Loss: 8.11, IOU - Train: 1.0 Valid: 0.587 Test: 0.608\n",
            "Epoch 261, Loss: 18.5, IOU - Train: 1.0 Valid: 0.586 Test: 0.608\n",
            "Epoch 262, Loss: 11.6, IOU - Train: 1.0 Valid: 0.586 Test: 0.608\n",
            "Epoch 263, Loss: 5.11, IOU - Train: 1.0 Valid: 0.587 Test: 0.608\n",
            "Epoch 264, Loss: 3.25, IOU - Train: 1.0 Valid: 0.587 Test: 0.608\n",
            "Epoch 265, Loss: 8.36, IOU - Train: 1.0 Valid: 0.587 Test: 0.608\n",
            "Epoch 266, Loss: 9.06, IOU - Train: 1.0 Valid: 0.586 Test: 0.608\n",
            "Epoch 267, Loss: 6.25, IOU - Train: 1.0 Valid: 0.587 Test: 0.608\n",
            "Epoch 268, Loss: 12.8, IOU - Train: 1.0 Valid: 0.587 Test: 0.608\n",
            "Epoch 269, Loss: 0.472, IOU - Train: 1.0 Valid: 0.588 Test: 0.608\n",
            "Epoch 270, Loss: 3.61, IOU - Train: 1.0 Valid: 0.588 Test: 0.608\n",
            "Epoch 271, Loss: 13.4, IOU - Train: 1.0 Valid: 0.587 Test: 0.608\n",
            "Epoch 272, Loss: 14.9, IOU - Train: 1.0 Valid: 0.585 Test: 0.608\n",
            "Epoch 273, Loss: 0.6, IOU - Train: 1.0 Valid: 0.586 Test: 0.608\n",
            "Epoch 274, Loss: 4.58, IOU - Train: 1.0 Valid: 0.586 Test: 0.608\n",
            "Epoch 275, Loss: 3.5, IOU - Train: 1.0 Valid: 0.587 Test: 0.608\n",
            "Epoch 276, Loss: 9.55, IOU - Train: 1.0 Valid: 0.586 Test: 0.608\n",
            "Epoch 277, Loss: 0.96, IOU - Train: 1.0 Valid: 0.587 Test: 0.608\n",
            "Epoch 278, Loss: 11.6, IOU - Train: 1.0 Valid: 0.587 Test: 0.608\n",
            "Epoch 279, Loss: 14.0, IOU - Train: 1.0 Valid: 0.585 Test: 0.608\n",
            "Epoch 280, Loss: 0.285, IOU - Train: 1.0 Valid: 0.586 Test: 0.608\n",
            "Epoch 281, Loss: 0.0906, IOU - Train: 1.0 Valid: 0.587 Test: 0.608\n",
            "Epoch 282, Loss: 0.159, IOU - Train: 1.0 Valid: 0.587 Test: 0.608\n",
            "Epoch 283, Loss: 9.08, IOU - Train: 1.0 Valid: 0.585 Test: 0.608\n",
            "Epoch 284, Loss: 0.426, IOU - Train: 1.0 Valid: 0.586 Test: 0.608\n",
            "Epoch 285, Loss: 4.06, IOU - Train: 1.0 Valid: 0.588 Test: 0.608\n",
            "Epoch 286, Loss: 8.58, IOU - Train: 1.0 Valid: 0.587 Test: 0.608\n",
            "Epoch 287, Loss: 0.528, IOU - Train: 1.0 Valid: 0.585 Test: 0.608\n",
            "Epoch 288, Loss: 3.39, IOU - Train: 1.0 Valid: 0.586 Test: 0.608\n",
            "Epoch 289, Loss: 3.23, IOU - Train: 1.0 Valid: 0.584 Test: 0.608\n",
            "Epoch 290, Loss: 2.58, IOU - Train: 1.0 Valid: 0.586 Test: 0.608\n",
            "Epoch 291, Loss: 0.0661, IOU - Train: 1.0 Valid: 0.587 Test: 0.608\n",
            "Epoch 292, Loss: 2.91, IOU - Train: 1.0 Valid: 0.587 Test: 0.608\n",
            "Epoch 293, Loss: 7.67, IOU - Train: 1.0 Valid: 0.588 Test: 0.608\n",
            "Epoch 294, Loss: 1.54, IOU - Train: 1.0 Valid: 0.589 Test: 0.608\n",
            "Epoch 295, Loss: 6.0, IOU - Train: 1.0 Valid: 0.585 Test: 0.608\n",
            "Epoch 296, Loss: 0.197, IOU - Train: 1.0 Valid: 0.585 Test: 0.608\n",
            "Epoch 297, Loss: 0.0228, IOU - Train: 1.0 Valid: 0.587 Test: 0.608\n",
            "Epoch 298, Loss: 0.0171, IOU - Train: 1.0 Valid: 0.586 Test: 0.608\n",
            "Epoch 299, Loss: 0.0213, IOU - Train: 1.0 Valid: 0.587 Test: 0.608\n",
            "Epoch 300, Loss: 12.7, IOU - Train: 1.0 Valid: 0.584 Test: 0.608\n",
            "Epoch 301, Loss: 7.75, IOU - Train: 1.0 Valid: 0.589 Test: 0.608\n",
            "Epoch 302, Loss: 6.47, IOU - Train: 1.0 Valid: 0.588 Test: 0.608\n",
            "Epoch 303, Loss: 0.221, IOU - Train: 1.0 Valid: 0.588 Test: 0.608\n",
            "Epoch 304, Loss: 0.0161, IOU - Train: 1.0 Valid: 0.587 Test: 0.608\n",
            "Epoch 305, Loss: 0.0127, IOU - Train: 1.0 Valid: 0.587 Test: 0.608\n",
            "Epoch 306, Loss: 0.0556, IOU - Train: 1.0 Valid: 0.587 Test: 0.608\n",
            "Epoch 307, Loss: 4.33, IOU - Train: 1.0 Valid: 0.587 Test: 0.608\n",
            "Epoch 308, Loss: 0.0832, IOU - Train: 1.0 Valid: 0.587 Test: 0.608\n",
            "Epoch 309, Loss: 0.0116, IOU - Train: 1.0 Valid: 0.586 Test: 0.608\n",
            "Epoch 310, Loss: 0.00724, IOU - Train: 1.0 Valid: 0.587 Test: 0.608\n",
            "Epoch 311, Loss: 0.0142, IOU - Train: 1.0 Valid: 0.588 Test: 0.608\n",
            "Epoch 312, Loss: 10.7, IOU - Train: 1.0 Valid: 0.586 Test: 0.608\n",
            "Epoch 313, Loss: 1.79, IOU - Train: 1.0 Valid: 0.588 Test: 0.608\n",
            "Epoch 314, Loss: 4.25, IOU - Train: 1.0 Valid: 0.583 Test: 0.608\n",
            "Epoch 315, Loss: 0.314, IOU - Train: 1.0 Valid: 0.587 Test: 0.608\n",
            "Epoch 316, Loss: 0.0092, IOU - Train: 1.0 Valid: 0.587 Test: 0.608\n",
            "Epoch 317, Loss: 0.00575, IOU - Train: 1.0 Valid: 0.588 Test: 0.608\n",
            "Epoch 318, Loss: 0.00471, IOU - Train: 1.0 Valid: 0.587 Test: 0.608\n",
            "Epoch 319, Loss: 0.0255, IOU - Train: 1.0 Valid: 0.588 Test: 0.608\n",
            "Epoch 320, Loss: 6.21, IOU - Train: 1.0 Valid: 0.585 Test: 0.608\n",
            "Epoch 321, Loss: 1.1, IOU - Train: 1.0 Valid: 0.587 Test: 0.608\n",
            "Epoch 322, Loss: 5.14, IOU - Train: 1.0 Valid: 0.591 Test: 0.608\n",
            "Epoch 323, Loss: 2.16, IOU - Train: 1.0 Valid: 0.586 Test: 0.608\n",
            "Epoch 324, Loss: 0.258, IOU - Train: 1.0 Valid: 0.586 Test: 0.608\n",
            "Epoch 325, Loss: 0.00705, IOU - Train: 1.0 Valid: 0.587 Test: 0.608\n",
            "Epoch 326, Loss: 3.11, IOU - Train: 1.0 Valid: 0.587 Test: 0.608\n",
            "Epoch 327, Loss: 1.0, IOU - Train: 1.0 Valid: 0.587 Test: 0.608\n",
            "Epoch 328, Loss: 0.0062, IOU - Train: 1.0 Valid: 0.587 Test: 0.608\n",
            "Epoch 329, Loss: 0.00422, IOU - Train: 1.0 Valid: 0.588 Test: 0.608\n",
            "Epoch 330, Loss: 0.00292, IOU - Train: 1.0 Valid: 0.587 Test: 0.608\n",
            "Epoch 331, Loss: 0.00224, IOU - Train: 1.0 Valid: 0.588 Test: 0.608\n",
            "Epoch 332, Loss: 0.00143, IOU - Train: 1.0 Valid: 0.587 Test: 0.608\n",
            "Epoch 333, Loss: 17.6, IOU - Train: 1.0 Valid: 0.588 Test: 0.608\n",
            "Epoch 334, Loss: 0.21, IOU - Train: 1.0 Valid: 0.586 Test: 0.608\n",
            "Epoch 335, Loss: 0.0051, IOU - Train: 1.0 Valid: 0.586 Test: 0.608\n",
            "Epoch 336, Loss: 0.00242, IOU - Train: 1.0 Valid: 0.585 Test: 0.608\n",
            "Epoch 337, Loss: 0.00122, IOU - Train: 1.0 Valid: 0.586 Test: 0.608\n",
            "Epoch 338, Loss: 0.000947, IOU - Train: 1.0 Valid: 0.587 Test: 0.608\n",
            "Epoch 339, Loss: 0.000603, IOU - Train: 1.0 Valid: 0.586 Test: 0.608\n",
            "Epoch 340, Loss: 0.000982, IOU - Train: 1.0 Valid: 0.585 Test: 0.608\n",
            "Epoch 341, Loss: 0.00933, IOU - Train: 1.0 Valid: 0.587 Test: 0.608\n",
            "Epoch 342, Loss: 5.38, IOU - Train: 1.0 Valid: 0.586 Test: 0.608\n",
            "Epoch 343, Loss: 0.0108, IOU - Train: 1.0 Valid: 0.586 Test: 0.608\n",
            "Epoch 344, Loss: 0.0663, IOU - Train: 1.0 Valid: 0.586 Test: 0.608\n",
            "Epoch 345, Loss: 5.22, IOU - Train: 1.0 Valid: 0.589 Test: 0.608\n",
            "Epoch 346, Loss: 0.00387, IOU - Train: 1.0 Valid: 0.588 Test: 0.608\n",
            "Epoch 347, Loss: 0.00254, IOU - Train: 1.0 Valid: 0.588 Test: 0.608\n",
            "Epoch 348, Loss: 0.000875, IOU - Train: 1.0 Valid: 0.588 Test: 0.608\n",
            "Epoch 349, Loss: 0.000437, IOU - Train: 1.0 Valid: 0.589 Test: 0.608\n",
            "Epoch 350, Loss: 0.000334, IOU - Train: 1.0 Valid: 0.588 Test: 0.608\n",
            "Epoch 351, Loss: 0.000515, IOU - Train: 1.0 Valid: 0.589 Test: 0.608\n",
            "Epoch 352, Loss: 5.24, IOU - Train: 1.0 Valid: 0.589 Test: 0.608\n",
            "Epoch 353, Loss: 0.00645, IOU - Train: 1.0 Valid: 0.588 Test: 0.608\n",
            "Epoch 354, Loss: 0.00232, IOU - Train: 1.0 Valid: 0.589 Test: 0.608\n",
            "Epoch 355, Loss: 0.00075, IOU - Train: 1.0 Valid: 0.588 Test: 0.608\n",
            "Epoch 356, Loss: 0.000479, IOU - Train: 1.0 Valid: 0.588 Test: 0.608\n",
            "Epoch 357, Loss: 0.000168, IOU - Train: 1.0 Valid: 0.588 Test: 0.608\n",
            "Epoch 358, Loss: 0.156, IOU - Train: 1.0 Valid: 0.587 Test: 0.608\n",
            "Epoch 359, Loss: 5.96, IOU - Train: 1.0 Valid: 0.588 Test: 0.608\n",
            "Epoch 360, Loss: 0.281, IOU - Train: 1.0 Valid: 0.587 Test: 0.608\n",
            "Epoch 361, Loss: 5.83e-05, IOU - Train: 1.0 Valid: 0.588 Test: 0.608\n",
            "Epoch 362, Loss: 0.000111, IOU - Train: 1.0 Valid: 0.587 Test: 0.608\n",
            "Epoch 363, Loss: 0.000192, IOU - Train: 1.0 Valid: 0.587 Test: 0.608\n",
            "Epoch 364, Loss: 0.000798, IOU - Train: 1.0 Valid: 0.584 Test: 0.608\n",
            "Epoch 365, Loss: 2.72, IOU - Train: 1.0 Valid: 0.585 Test: 0.608\n",
            "Epoch 366, Loss: 0.0125, IOU - Train: 1.0 Valid: 0.586 Test: 0.608\n",
            "Epoch 367, Loss: 0.00199, IOU - Train: 1.0 Valid: 0.587 Test: 0.608\n",
            "Epoch 368, Loss: 0.000547, IOU - Train: 1.0 Valid: 0.586 Test: 0.608\n",
            "Epoch 369, Loss: 0.000239, IOU - Train: 1.0 Valid: 0.587 Test: 0.608\n",
            "Epoch 370, Loss: 0.000107, IOU - Train: 1.0 Valid: 0.586 Test: 0.608\n",
            "Epoch 371, Loss: 7.37e-05, IOU - Train: 1.0 Valid: 0.586 Test: 0.608\n",
            "Epoch 372, Loss: 3.36e-05, IOU - Train: 1.0 Valid: 0.586 Test: 0.608\n",
            "Epoch 373, Loss: 1.94e-05, IOU - Train: 1.0 Valid: 0.586 Test: 0.608\n",
            "Epoch 374, Loss: 1.84e-05, IOU - Train: 1.0 Valid: 0.586 Test: 0.608\n",
            "Epoch 375, Loss: 4.8e-05, IOU - Train: 1.0 Valid: 0.587 Test: 0.608\n",
            "Epoch 376, Loss: 0.616, IOU - Train: 1.0 Valid: 0.584 Test: 0.608\n",
            "Epoch 377, Loss: 0.1, IOU - Train: 1.0 Valid: 0.585 Test: 0.608\n",
            "Epoch 378, Loss: 1.7, IOU - Train: 1.0 Valid: 0.584 Test: 0.608\n",
            "Epoch 379, Loss: 16.5, IOU - Train: 1.0 Valid: 0.589 Test: 0.608\n",
            "Epoch 380, Loss: 0.0138, IOU - Train: 1.0 Valid: 0.586 Test: 0.608\n",
            "Epoch 381, Loss: 0.000379, IOU - Train: 1.0 Valid: 0.585 Test: 0.608\n",
            "Epoch 382, Loss: 0.00018, IOU - Train: 1.0 Valid: 0.585 Test: 0.608\n",
            "Epoch 383, Loss: 9.78e-05, IOU - Train: 1.0 Valid: 0.585 Test: 0.608\n",
            "Epoch 384, Loss: 3.43e-05, IOU - Train: 1.0 Valid: 0.585 Test: 0.608\n",
            "Epoch 385, Loss: 2.41e-05, IOU - Train: 1.0 Valid: 0.585 Test: 0.608\n",
            "Epoch 386, Loss: 2.87e-05, IOU - Train: 1.0 Valid: 0.585 Test: 0.608\n",
            "Epoch 387, Loss: 1.37e-05, IOU - Train: 1.0 Valid: 0.585 Test: 0.608\n",
            "Epoch 388, Loss: 7.58e-05, IOU - Train: 1.0 Valid: 0.584 Test: 0.608\n",
            "Epoch 389, Loss: 0.266, IOU - Train: 1.0 Valid: 0.582 Test: 0.608\n",
            "Epoch 390, Loss: 0.0286, IOU - Train: 1.0 Valid: 0.583 Test: 0.608\n",
            "Epoch 391, Loss: 4.9e-05, IOU - Train: 1.0 Valid: 0.583 Test: 0.608\n",
            "Epoch 392, Loss: 3.73e-05, IOU - Train: 1.0 Valid: 0.584 Test: 0.608\n",
            "Epoch 393, Loss: 2.81e-05, IOU - Train: 1.0 Valid: 0.584 Test: 0.608\n",
            "Epoch 394, Loss: 2.16e-05, IOU - Train: 1.0 Valid: 0.584 Test: 0.608\n",
            "Epoch 395, Loss: 1.32e-05, IOU - Train: 1.0 Valid: 0.584 Test: 0.608\n",
            "Epoch 396, Loss: 8.94e-06, IOU - Train: 1.0 Valid: 0.584 Test: 0.608\n",
            "Epoch 397, Loss: 5.84e-06, IOU - Train: 1.0 Valid: 0.584 Test: 0.608\n",
            "Epoch 398, Loss: 2.38e-06, IOU - Train: 1.0 Valid: 0.584 Test: 0.608\n",
            "Epoch 399, Loss: 4.05e-06, IOU - Train: 1.0 Valid: 0.584 Test: 0.608\n",
            "Epoch 400, Loss: 5.01e-06, IOU - Train: 1.0 Valid: 0.586 Test: 0.608\n",
            "Epoch 401, Loss: 0.058, IOU - Train: 1.0 Valid: 0.584 Test: 0.608\n",
            "Epoch 402, Loss: 0.0607, IOU - Train: 1.0 Valid: 0.582 Test: 0.608\n",
            "Epoch 403, Loss: 0.00232, IOU - Train: 1.0 Valid: 0.583 Test: 0.608\n",
            "Epoch 404, Loss: 3.11e-05, IOU - Train: 1.0 Valid: 0.583 Test: 0.608\n",
            "Epoch 405, Loss: 2.55e-05, IOU - Train: 1.0 Valid: 0.583 Test: 0.608\n",
            "Epoch 406, Loss: 1.91e-05, IOU - Train: 1.0 Valid: 0.583 Test: 0.608\n",
            "Epoch 407, Loss: 7.39e-06, IOU - Train: 1.0 Valid: 0.584 Test: 0.608\n",
            "Epoch 408, Loss: 3.81e-06, IOU - Train: 1.0 Valid: 0.584 Test: 0.608\n",
            "Epoch 409, Loss: 1.07e-06, IOU - Train: 1.0 Valid: 0.584 Test: 0.608\n",
            "Epoch 410, Loss: 5.96e-07, IOU - Train: 1.0 Valid: 0.584 Test: 0.608\n",
            "Epoch 411, Loss: 2.38e-07, IOU - Train: 1.0 Valid: 0.584 Test: 0.608\n",
            "Epoch 412, Loss: 1.19e-07, IOU - Train: 1.0 Valid: 0.584 Test: 0.608\n",
            "Epoch 413, Loss: 1.19e-07, IOU - Train: 1.0 Valid: 0.586 Test: 0.608\n",
            "Epoch 414, Loss: 9.78e-06, IOU - Train: 1.0 Valid: 0.588 Test: 0.608\n",
            "Epoch 415, Loss: 0.0839, IOU - Train: 1.0 Valid: 0.583 Test: 0.608\n",
            "Epoch 416, Loss: 6.56e-06, IOU - Train: 1.0 Valid: 0.585 Test: 0.608\n",
            "Epoch 417, Loss: 4.17e-06, IOU - Train: 1.0 Valid: 0.584 Test: 0.608\n",
            "Epoch 418, Loss: 3.1e-06, IOU - Train: 1.0 Valid: 0.585 Test: 0.608\n",
            "Epoch 419, Loss: 2.03e-06, IOU - Train: 1.0 Valid: 0.585 Test: 0.608\n",
            "Epoch 420, Loss: 1.67e-06, IOU - Train: 1.0 Valid: 0.585 Test: 0.608\n",
            "Epoch 421, Loss: 1.07e-06, IOU - Train: 1.0 Valid: 0.585 Test: 0.608\n",
            "Epoch 422, Loss: 4.77e-07, IOU - Train: 1.0 Valid: 0.585 Test: 0.608\n",
            "Epoch 423, Loss: 2.38e-07, IOU - Train: 1.0 Valid: 0.585 Test: 0.608\n",
            "Epoch 424, Loss: 2.38e-07, IOU - Train: 1.0 Valid: 0.585 Test: 0.608\n",
            "Epoch 425, Loss: 0.0, IOU - Train: 1.0 Valid: 0.586 Test: 0.608\n",
            "Epoch 426, Loss: 0.0, IOU - Train: 1.0 Valid: 0.586 Test: 0.608\n",
            "Epoch 427, Loss: 0.0, IOU - Train: 1.0 Valid: 0.585 Test: 0.608\n",
            "Epoch 428, Loss: 2.01e-05, IOU - Train: 1.0 Valid: 0.587 Test: 0.608\n",
            "Epoch 429, Loss: 4.88, IOU - Train: 1.0 Valid: 0.585 Test: 0.608\n",
            "Epoch 430, Loss: 0.0138, IOU - Train: 1.0 Valid: 0.585 Test: 0.608\n",
            "Epoch 431, Loss: 0.000297, IOU - Train: 1.0 Valid: 0.585 Test: 0.608\n",
            "Epoch 432, Loss: 0.000253, IOU - Train: 1.0 Valid: 0.585 Test: 0.608\n",
            "Epoch 433, Loss: 0.000191, IOU - Train: 1.0 Valid: 0.585 Test: 0.608\n",
            "Epoch 434, Loss: 7.39e-05, IOU - Train: 1.0 Valid: 0.585 Test: 0.608\n",
            "Epoch 435, Loss: 3.79e-05, IOU - Train: 1.0 Valid: 0.584 Test: 0.608\n",
            "Epoch 436, Loss: 1.56e-05, IOU - Train: 1.0 Valid: 0.584 Test: 0.608\n",
            "Epoch 437, Loss: 5.6e-06, IOU - Train: 1.0 Valid: 0.584 Test: 0.608\n",
            "Epoch 438, Loss: 2.03e-06, IOU - Train: 1.0 Valid: 0.584 Test: 0.608\n",
            "Epoch 439, Loss: 1.19e-06, IOU - Train: 1.0 Valid: 0.583 Test: 0.608\n",
            "Epoch 440, Loss: 3.58e-07, IOU - Train: 1.0 Valid: 0.584 Test: 0.608\n",
            "Epoch 441, Loss: 1.19e-07, IOU - Train: 1.0 Valid: 0.584 Test: 0.608\n",
            "Epoch 442, Loss: 0.0, IOU - Train: 1.0 Valid: 0.585 Test: 0.608\n",
            "Epoch 443, Loss: 0.0, IOU - Train: 1.0 Valid: 0.585 Test: 0.608\n",
            "Epoch 444, Loss: 0.0, IOU - Train: 1.0 Valid: 0.585 Test: 0.608\n",
            "Epoch 445, Loss: 0.0, IOU - Train: 1.0 Valid: 0.586 Test: 0.608\n",
            "Epoch 446, Loss: 0.0, IOU - Train: 1.0 Valid: 0.586 Test: 0.608\n",
            "Epoch 447, Loss: 0.0, IOU - Train: 1.0 Valid: 0.586 Test: 0.608\n",
            "Epoch 448, Loss: 0.0, IOU - Train: 1.0 Valid: 0.586 Test: 0.608\n",
            "Epoch 449, Loss: 0.0, IOU - Train: 1.0 Valid: 0.586 Test: 0.608\n",
            "Epoch 450, Loss: 0.0, IOU - Train: 1.0 Valid: 0.587 Test: 0.608\n",
            "Epoch 451, Loss: 0.0, IOU - Train: 1.0 Valid: 0.587 Test: 0.608\n",
            "Epoch 452, Loss: 0.0, IOU - Train: 1.0 Valid: 0.587 Test: 0.608\n",
            "Epoch 453, Loss: 0.0, IOU - Train: 1.0 Valid: 0.586 Test: 0.608\n",
            "Epoch 454, Loss: 0.0, IOU - Train: 1.0 Valid: 0.587 Test: 0.608\n",
            "Epoch 455, Loss: 0.0, IOU - Train: 1.0 Valid: 0.586 Test: 0.608\n",
            "Epoch 456, Loss: 0.0, IOU - Train: 1.0 Valid: 0.587 Test: 0.608\n",
            "Epoch 457, Loss: 0.0, IOU - Train: 1.0 Valid: 0.586 Test: 0.608\n",
            "Epoch 458, Loss: 0.0, IOU - Train: 1.0 Valid: 0.587 Test: 0.608\n",
            "Epoch 459, Loss: 0.0, IOU - Train: 1.0 Valid: 0.587 Test: 0.608\n",
            "Epoch 460, Loss: 0.0, IOU - Train: 1.0 Valid: 0.587 Test: 0.608\n",
            "Epoch 461, Loss: 0.0, IOU - Train: 1.0 Valid: 0.587 Test: 0.608\n",
            "Epoch 462, Loss: 0.0, IOU - Train: 1.0 Valid: 0.587 Test: 0.608\n",
            "Epoch 463, Loss: 0.0, IOU - Train: 1.0 Valid: 0.587 Test: 0.608\n",
            "Epoch 464, Loss: 0.0, IOU - Train: 1.0 Valid: 0.587 Test: 0.608\n",
            "Epoch 465, Loss: 0.0, IOU - Train: 1.0 Valid: 0.587 Test: 0.608\n",
            "Epoch 466, Loss: 0.0, IOU - Train: 1.0 Valid: 0.587 Test: 0.608\n",
            "Epoch 467, Loss: 0.0, IOU - Train: 1.0 Valid: 0.587 Test: 0.608\n",
            "Epoch 468, Loss: 0.0, IOU - Train: 1.0 Valid: 0.587 Test: 0.608\n",
            "Epoch 469, Loss: 0.0, IOU - Train: 1.0 Valid: 0.587 Test: 0.608\n",
            "Epoch 470, Loss: 0.0, IOU - Train: 1.0 Valid: 0.587 Test: 0.608\n",
            "Epoch 471, Loss: 0.0, IOU - Train: 1.0 Valid: 0.587 Test: 0.608\n",
            "Epoch 472, Loss: 0.0, IOU - Train: 1.0 Valid: 0.587 Test: 0.608\n",
            "Epoch 473, Loss: 0.0, IOU - Train: 1.0 Valid: 0.587 Test: 0.608\n",
            "Epoch 474, Loss: 0.0, IOU - Train: 1.0 Valid: 0.587 Test: 0.608\n",
            "Epoch 475, Loss: 0.0, IOU - Train: 1.0 Valid: 0.587 Test: 0.608\n",
            "Epoch 476, Loss: 0.0, IOU - Train: 1.0 Valid: 0.587 Test: 0.608\n",
            "Epoch 477, Loss: 0.0, IOU - Train: 1.0 Valid: 0.587 Test: 0.608\n",
            "Epoch 478, Loss: 0.0, IOU - Train: 1.0 Valid: 0.587 Test: 0.608\n",
            "Epoch 479, Loss: 0.0, IOU - Train: 1.0 Valid: 0.587 Test: 0.608\n",
            "Epoch 480, Loss: 0.0, IOU - Train: 1.0 Valid: 0.587 Test: 0.608\n",
            "Epoch 481, Loss: 0.0, IOU - Train: 1.0 Valid: 0.587 Test: 0.608\n",
            "Epoch 482, Loss: 0.0, IOU - Train: 1.0 Valid: 0.587 Test: 0.608\n",
            "Epoch 483, Loss: 0.0, IOU - Train: 1.0 Valid: 0.587 Test: 0.608\n",
            "Epoch 484, Loss: 0.0, IOU - Train: 1.0 Valid: 0.587 Test: 0.608\n",
            "Epoch 485, Loss: 0.0, IOU - Train: 1.0 Valid: 0.587 Test: 0.608\n",
            "Epoch 486, Loss: 0.0, IOU - Train: 1.0 Valid: 0.587 Test: 0.608\n",
            "Epoch 487, Loss: 0.0, IOU - Train: 1.0 Valid: 0.587 Test: 0.608\n",
            "Epoch 488, Loss: 0.0, IOU - Train: 1.0 Valid: 0.587 Test: 0.608\n",
            "Epoch 489, Loss: 0.0, IOU - Train: 1.0 Valid: 0.587 Test: 0.608\n",
            "Epoch 490, Loss: 0.0, IOU - Train: 1.0 Valid: 0.587 Test: 0.608\n",
            "Epoch 491, Loss: 0.0, IOU - Train: 1.0 Valid: 0.587 Test: 0.608\n",
            "Epoch 492, Loss: 0.0, IOU - Train: 1.0 Valid: 0.587 Test: 0.608\n",
            "Epoch 493, Loss: 0.0, IOU - Train: 1.0 Valid: 0.587 Test: 0.608\n",
            "Epoch 494, Loss: 0.0, IOU - Train: 1.0 Valid: 0.587 Test: 0.608\n",
            "Epoch 495, Loss: 0.0, IOU - Train: 1.0 Valid: 0.587 Test: 0.608\n",
            "Epoch 496, Loss: 0.0, IOU - Train: 1.0 Valid: 0.587 Test: 0.608\n",
            "Epoch 497, Loss: 0.0, IOU - Train: 1.0 Valid: 0.587 Test: 0.608\n",
            "Epoch 498, Loss: 0.0, IOU - Train: 1.0 Valid: 0.587 Test: 0.608\n",
            "Epoch 499, Loss: 0.0, IOU - Train: 1.0 Valid: 0.587 Test: 0.608\n"
          ]
        }
      ],
      "source": [
        "#Adopt similar training loop for other problems\n",
        "\n",
        "max_epoch = 5000\n",
        "\n",
        "while epoch < max_epoch:\n",
        "    loss = 0.0\n",
        "    for batch in train_dataset:\n",
        "        xbatch = batch[:,:image_size*image_size*3]\n",
        "        ybatch = batch[:,image_size*image_size*3:]\n",
        "        xbatch = tf.cast(xbatch, tf.float32);\n",
        "        ybatch = tf.cast(ybatch, tf.float32);\n",
        "        loss += model.train_step(xbatch, ybatch);\n",
        "\n",
        "    ydata_pred = model.predict(tf.reshape(xdata, (-1, image_size, image_size, 3 )));\n",
        "    yval_pred = model.predict(tf.reshape(xval, (-1, image_size, image_size, 3 )));\n",
        "    ytest_pred = model.predict(tf.reshape(xtest, (-1, image_size, image_size, 3 )));\n",
        "\n",
        "    train_iou.append(iou(ydata,ydata_pred))\n",
        "    val_iou.append(iou(yval,yval_pred))\n",
        "    test_iou.append(iou(ytest,ytest_pred))\n",
        "\n",
        "    if val_iou[-1] > best_val_iou:\n",
        "        best_test_iou = test_iou[-1]\n",
        "        best_val_iou = val_iou[-1]\n",
        "        model.save_weights(\"best_model\");\n",
        "\n",
        "\n",
        "    print(\"Epoch {}, Loss: {:0.3}, IOU - Train: {:0.3} Valid: {:0.3} Test: {:0.3}\".format( epoch, loss.numpy(), train_iou[-1], val_iou[-1], best_test_iou))\n",
        "\n",
        "\n",
        "\n",
        "    epoch += 1\n"
      ]
    },
    {
      "cell_type": "code",
      "execution_count": 43,
      "metadata": {
        "colab": {
          "base_uri": "https://localhost:8080/",
          "height": 675
        },
        "id": "mWtXjSTHrSMS",
        "outputId": "0ff73abb-ec65-46b4-b0c3-e41f3b9a5e65"
      },
      "outputs": [
        {
          "data": {
            "image/png": "[encoded data removed]",
            "text/plain": [
              "<Figure size 640x480 with 1 Axes>"
            ]
          },
          "metadata": {},
          "output_type": "display_data"
        },
        {
          "data": {
            "image/png": "[encoded data removed]",
            "text/plain": [
              "<Figure size 640x480 with 2 Axes>"
            ]
          },
          "metadata": {},
          "output_type": "display_data"
        }
      ],
      "source": [
        "fig, ax = plt.subplots(1,1)\n",
        "pd.Series(train_iou).plot(ax=ax)\n",
        "pd.Series(val_iou).plot(ax=ax)\n",
        "pd.Series(test_iou).plot(ax=ax)\n",
        "fig.canvas.draw()\n",
        "\n",
        "draw(xdata[0], ydata_pred[0])"
      ]
    },
    {
      "cell_type": "code",
      "execution_count": 59,
      "metadata": {
        "id": "Zwvz3uTqxuch"
      },
      "outputs": [],
      "source": [
        "model.load_weights(\"best_model\")\n",
        "ypred = model.predict(tf.reshape(xtest, (-1, image_size, image_size, 3 )));"
      ]
    },
    {
      "cell_type": "code",
      "execution_count": 60,
      "metadata": {
        "colab": {
          "base_uri": "https://localhost:8080/",
          "height": 752
        },
        "id": "WrsVhY_t6z10",
        "outputId": "163aea9b-2653-4e6e-9ef5-fc81ecbe3bd7"
      },
      "outputs": [
        {
          "data": {
            "image/png": "[encoded data removed]",
            "text/plain": [
              "<Figure size 640x480 with 2 Axes>"
            ]
          },
          "metadata": {},
          "output_type": "display_data"
        },
        {
          "data": {
            "image/png": "[encoded data removed]",
            "text/plain": [
              "<Figure size 640x480 with 2 Axes>"
            ]
          },
          "metadata": {},
          "output_type": "display_data"
        },
        {
          "data": {
            "image/png": "[encoded data removed]",
            "text/plain": [
              "<Figure size 640x480 with 2 Axes>"
            ]
          },
          "metadata": {},
          "output_type": "display_data"
        }
      ],
      "source": [
        "draw(xtest[10], ypred[10])\n",
        "draw(xtest[25], ypred[25])\n",
        "draw(xtest[20], ypred[20])"
      ]
    },
    {
      "cell_type": "code",
      "execution_count": 61,
      "metadata": {
        "colab": {
          "base_uri": "https://localhost:8080/"
        },
        "id": "NYVK9ttn7h1Q",
        "outputId": "b182d3fd-377c-4648-9775-76e21bbc2176"
      },
      "outputs": [
        {
          "data": {
            "text/plain": [
              "0.6084324036689871"
            ]
          },
          "execution_count": 61,
          "metadata": {},
          "output_type": "execute_result"
        }
      ],
      "source": [
        "iou(ytest, ypred)"
      ]
    },
    {
      "cell_type": "code",
      "execution_count": 62,
      "metadata": {},
      "outputs": [
        {
          "data": {
            "text/plain": [
              "[PhysicalDevice(name='/physical_device:GPU:0', device_type='GPU')]"
            ]
          },
          "execution_count": 62,
          "metadata": {},
          "output_type": "execute_result"
        }
      ],
      "source": [
        "tf.config.list_physical_devices('GPU')"
      ]
    }
  ],
  "metadata": {
    "colab": {
      "provenance": []
    },
    "kernelspec": {
      "display_name": "Python 3",
      "language": "python",
      "name": "python3"
    },
    "language_info": {
      "codemirror_mode": {
        "name": "ipython",
        "version": 3
      },
      "file_extension": ".py",
      "mimetype": "text/x-python",
      "name": "python",
      "nbconvert_exporter": "python",
      "pygments_lexer": "ipython3",
      "version": "3.11.4"
    }
  },
  "nbformat": 4,
  "nbformat_minor": 0
}
